{
  "nbformat": 4,
  "nbformat_minor": 0,
  "metadata": {
    "colab": {
      "provenance": [],
      "include_colab_link": true
    },
    "kernelspec": {
      "name": "python3",
      "display_name": "Python 3"
    },
    "language_info": {
      "name": "python"
    }
  },
  "cells": [
    {
      "cell_type": "markdown",
      "metadata": {
        "id": "view-in-github",
        "colab_type": "text"
      },
      "source": [
        "<a href=\"https://colab.research.google.com/github/wildanardani/kecerdasan-kom/blob/main/UTS_Kecerdasan_Komputasional.ipynb\" target=\"_parent\"><img src=\"https://colab.research.google.com/assets/colab-badge.svg\" alt=\"Open In Colab\"/></a>"
      ]
    },
    {
      "cell_type": "code",
      "execution_count": null,
      "metadata": {
        "id": "rYwNenhZAGzb"
      },
      "outputs": [],
      "source": [
        "import matplotlib as plt\n",
        "from sklearn.datasets import make_blobs\n",
        "from sklearn.cluster import KMeans\n",
        "from sklearn.metrics import silhouette_score\n",
        "from sklearn.preprocessing import StandardScaler"
      ]
    },
    {
      "cell_type": "code",
      "source": [
        "features, true_label = make_blobs(\n",
        "    n_samples=210,\n",
        "    centers=5,\n",
        "    cluster_std=2.10,\n",
        "    random_state=12\n",
        ")"
      ],
      "metadata": {
        "id": "_eWLYDQqAwAb"
      },
      "execution_count": null,
      "outputs": []
    },
    {
      "cell_type": "code",
      "source": [
        "features[:10]"
      ],
      "metadata": {
        "colab": {
          "base_uri": "https://localhost:8080/"
        },
        "id": "ZfaFc9MPBKC4",
        "outputId": "a587fefb-f242-4498-d892-5fdae64a7505"
      },
      "execution_count": null,
      "outputs": [
        {
          "output_type": "execute_result",
          "data": {
            "text/plain": [
              "array([[ -8.17217128,   5.79315362],\n",
              "       [ -4.16167851,  -1.36048278],\n",
              "       [  9.72665227,  -8.11597732],\n",
              "       [-12.23424948,   9.83684802],\n",
              "       [ -3.78683231,  -0.67217275],\n",
              "       [  5.58575736,  -8.46942635],\n",
              "       [ -3.48229161,  -3.60052241],\n",
              "       [ -5.86031035,   1.09042095],\n",
              "       [ -4.11149734,   5.47019104],\n",
              "       [  9.47431724,  -5.62324151]])"
            ]
          },
          "metadata": {},
          "execution_count": 48
        }
      ]
    },
    {
      "cell_type": "code",
      "source": [
        "true_label[:200]"
      ],
      "metadata": {
        "colab": {
          "base_uri": "https://localhost:8080/"
        },
        "id": "rqgzAIThBdjH",
        "outputId": "8c543c69-67b6-4e4b-da8a-da2d12e63029"
      },
      "execution_count": null,
      "outputs": [
        {
          "output_type": "execute_result",
          "data": {
            "text/plain": [
              "array([0, 1, 4, 2, 1, 3, 1, 1, 0, 3, 2, 4, 3, 2, 3, 0, 3, 4, 1, 4, 1, 1,\n",
              "       1, 2, 4, 1, 3, 0, 1, 1, 4, 0, 0, 4, 4, 3, 3, 0, 0, 3, 0, 3, 3, 2,\n",
              "       0, 1, 4, 2, 1, 1, 4, 4, 0, 3, 0, 3, 4, 1, 4, 1, 0, 1, 2, 1, 2, 0,\n",
              "       4, 3, 2, 4, 3, 0, 3, 4, 0, 2, 1, 3, 1, 0, 1, 1, 4, 4, 2, 4, 0, 3,\n",
              "       3, 2, 0, 2, 4, 4, 3, 4, 0, 0, 4, 2, 4, 2, 1, 2, 1, 2, 1, 0, 3, 0,\n",
              "       4, 0, 2, 2, 1, 2, 1, 1, 0, 1, 1, 0, 4, 3, 1, 3, 1, 2, 0, 4, 4, 1,\n",
              "       3, 0, 4, 1, 3, 0, 3, 0, 4, 3, 0, 4, 2, 3, 4, 4, 2, 1, 2, 1, 2, 3,\n",
              "       1, 0, 2, 0, 0, 2, 4, 2, 0, 1, 2, 0, 0, 4, 0, 2, 3, 4, 3, 4, 2, 4,\n",
              "       3, 3, 2, 3, 0, 2, 3, 4, 1, 3, 2, 2, 2, 3, 3, 3, 2, 2, 3, 1, 3, 4,\n",
              "       0, 0])"
            ]
          },
          "metadata": {},
          "execution_count": 49
        }
      ]
    },
    {
      "cell_type": "code",
      "source": [
        "standard_skala = StandardScaler()\n",
        "skala_fitur = standard_skala.fit_transform(features)"
      ],
      "metadata": {
        "id": "sOj0yakWBsSU"
      },
      "execution_count": null,
      "outputs": []
    },
    {
      "cell_type": "code",
      "source": [
        "skala_fitur[:10]"
      ],
      "metadata": {
        "colab": {
          "base_uri": "https://localhost:8080/"
        },
        "id": "DsStsYYXBxjW",
        "outputId": "e4f26106-292e-4ea7-cff3-de821ef6b132"
      },
      "execution_count": null,
      "outputs": [
        {
          "output_type": "execute_result",
          "data": {
            "text/plain": [
              "array([[-0.8577845 ,  0.94892563],\n",
              "       [-0.38179831, -0.08643046],\n",
              "       [ 1.26654118, -1.0641629 ],\n",
              "       [-1.33989312,  1.53417534],\n",
              "       [-0.33730961,  0.01318964],\n",
              "       [ 0.77507819, -1.11531809],\n",
              "       [-0.30116513, -0.41063462],\n",
              "       [-0.58340079,  0.26829237],\n",
              "       [-0.37584255,  0.90218279],\n",
              "       [ 1.23659275, -0.70338566]])"
            ]
          },
          "metadata": {},
          "execution_count": 51
        }
      ]
    },
    {
      "cell_type": "code",
      "source": [
        "metode_kmeans = KMeans(\n",
        "    init=\"random\", \n",
        "    n_clusters=9, \n",
        "    n_init=10, \n",
        "    max_iter=100, \n",
        "    random_state=42\n",
        "    )"
      ],
      "metadata": {
        "id": "i_khwO-oB2iB"
      },
      "execution_count": null,
      "outputs": []
    },
    {
      "cell_type": "code",
      "source": [
        "metode_kmeans.fit(skala_fitur)"
      ],
      "metadata": {
        "colab": {
          "base_uri": "https://localhost:8080/",
          "height": 74
        },
        "id": "zlrDHwHCB8w0",
        "outputId": "5b3990e4-9d50-4f5a-acc9-b1af711e70f5"
      },
      "execution_count": null,
      "outputs": [
        {
          "output_type": "execute_result",
          "data": {
            "text/plain": [
              "KMeans(init='random', max_iter=100, n_clusters=9, n_init=10, random_state=42)"
            ],
            "text/html": [
              "<style>#sk-container-id-6 {color: black;background-color: white;}#sk-container-id-6 pre{padding: 0;}#sk-container-id-6 div.sk-toggleable {background-color: white;}#sk-container-id-6 label.sk-toggleable__label {cursor: pointer;display: block;width: 100%;margin-bottom: 0;padding: 0.3em;box-sizing: border-box;text-align: center;}#sk-container-id-6 label.sk-toggleable__label-arrow:before {content: \"▸\";float: left;margin-right: 0.25em;color: #696969;}#sk-container-id-6 label.sk-toggleable__label-arrow:hover:before {color: black;}#sk-container-id-6 div.sk-estimator:hover label.sk-toggleable__label-arrow:before {color: black;}#sk-container-id-6 div.sk-toggleable__content {max-height: 0;max-width: 0;overflow: hidden;text-align: left;background-color: #f0f8ff;}#sk-container-id-6 div.sk-toggleable__content pre {margin: 0.2em;color: black;border-radius: 0.25em;background-color: #f0f8ff;}#sk-container-id-6 input.sk-toggleable__control:checked~div.sk-toggleable__content {max-height: 200px;max-width: 100%;overflow: auto;}#sk-container-id-6 input.sk-toggleable__control:checked~label.sk-toggleable__label-arrow:before {content: \"▾\";}#sk-container-id-6 div.sk-estimator input.sk-toggleable__control:checked~label.sk-toggleable__label {background-color: #d4ebff;}#sk-container-id-6 div.sk-label input.sk-toggleable__control:checked~label.sk-toggleable__label {background-color: #d4ebff;}#sk-container-id-6 input.sk-hidden--visually {border: 0;clip: rect(1px 1px 1px 1px);clip: rect(1px, 1px, 1px, 1px);height: 1px;margin: -1px;overflow: hidden;padding: 0;position: absolute;width: 1px;}#sk-container-id-6 div.sk-estimator {font-family: monospace;background-color: #f0f8ff;border: 1px dotted black;border-radius: 0.25em;box-sizing: border-box;margin-bottom: 0.5em;}#sk-container-id-6 div.sk-estimator:hover {background-color: #d4ebff;}#sk-container-id-6 div.sk-parallel-item::after {content: \"\";width: 100%;border-bottom: 1px solid gray;flex-grow: 1;}#sk-container-id-6 div.sk-label:hover label.sk-toggleable__label {background-color: #d4ebff;}#sk-container-id-6 div.sk-serial::before {content: \"\";position: absolute;border-left: 1px solid gray;box-sizing: border-box;top: 0;bottom: 0;left: 50%;z-index: 0;}#sk-container-id-6 div.sk-serial {display: flex;flex-direction: column;align-items: center;background-color: white;padding-right: 0.2em;padding-left: 0.2em;position: relative;}#sk-container-id-6 div.sk-item {position: relative;z-index: 1;}#sk-container-id-6 div.sk-parallel {display: flex;align-items: stretch;justify-content: center;background-color: white;position: relative;}#sk-container-id-6 div.sk-item::before, #sk-container-id-6 div.sk-parallel-item::before {content: \"\";position: absolute;border-left: 1px solid gray;box-sizing: border-box;top: 0;bottom: 0;left: 50%;z-index: -1;}#sk-container-id-6 div.sk-parallel-item {display: flex;flex-direction: column;z-index: 1;position: relative;background-color: white;}#sk-container-id-6 div.sk-parallel-item:first-child::after {align-self: flex-end;width: 50%;}#sk-container-id-6 div.sk-parallel-item:last-child::after {align-self: flex-start;width: 50%;}#sk-container-id-6 div.sk-parallel-item:only-child::after {width: 0;}#sk-container-id-6 div.sk-dashed-wrapped {border: 1px dashed gray;margin: 0 0.4em 0.5em 0.4em;box-sizing: border-box;padding-bottom: 0.4em;background-color: white;}#sk-container-id-6 div.sk-label label {font-family: monospace;font-weight: bold;display: inline-block;line-height: 1.2em;}#sk-container-id-6 div.sk-label-container {text-align: center;}#sk-container-id-6 div.sk-container {/* jupyter's `normalize.less` sets `[hidden] { display: none; }` but bootstrap.min.css set `[hidden] { display: none !important; }` so we also need the `!important` here to be able to override the default hidden behavior on the sphinx rendered scikit-learn.org. See: https://github.com/scikit-learn/scikit-learn/issues/21755 */display: inline-block !important;position: relative;}#sk-container-id-6 div.sk-text-repr-fallback {display: none;}</style><div id=\"sk-container-id-6\" class=\"sk-top-container\"><div class=\"sk-text-repr-fallback\"><pre>KMeans(init=&#x27;random&#x27;, max_iter=100, n_clusters=9, n_init=10, random_state=42)</pre><b>In a Jupyter environment, please rerun this cell to show the HTML representation or trust the notebook. <br />On GitHub, the HTML representation is unable to render, please try loading this page with nbviewer.org.</b></div><div class=\"sk-container\" hidden><div class=\"sk-item\"><div class=\"sk-estimator sk-toggleable\"><input class=\"sk-toggleable__control sk-hidden--visually\" id=\"sk-estimator-id-6\" type=\"checkbox\" checked><label for=\"sk-estimator-id-6\" class=\"sk-toggleable__label sk-toggleable__label-arrow\">KMeans</label><div class=\"sk-toggleable__content\"><pre>KMeans(init=&#x27;random&#x27;, max_iter=100, n_clusters=9, n_init=10, random_state=42)</pre></div></div></div></div></div>"
            ]
          },
          "metadata": {},
          "execution_count": 53
        }
      ]
    },
    {
      "cell_type": "code",
      "source": [
        "metode_kmeans.inertia_"
      ],
      "metadata": {
        "colab": {
          "base_uri": "https://localhost:8080/"
        },
        "id": "P8OTuct8CZvs",
        "outputId": "b32f310a-fc25-4133-dba2-a5d25f8c6f9c"
      },
      "execution_count": null,
      "outputs": [
        {
          "output_type": "execute_result",
          "data": {
            "text/plain": [
              "13.816443055231039"
            ]
          },
          "metadata": {},
          "execution_count": 54
        }
      ]
    },
    {
      "cell_type": "code",
      "source": [
        "metode_kmeans.cluster_centers_"
      ],
      "metadata": {
        "colab": {
          "base_uri": "https://localhost:8080/"
        },
        "id": "Nn44ajrmCcdB",
        "outputId": "40c0151c-23fe-4245-af77-8587ba81b95b"
      },
      "execution_count": null,
      "outputs": [
        {
          "output_type": "execute_result",
          "data": {
            "text/plain": [
              "array([[-0.85262195,  0.43950414],\n",
              "       [-0.48156033, -0.14050615],\n",
              "       [-0.30137137,  0.33576706],\n",
              "       [-1.26233775,  1.15913521],\n",
              "       [-0.84486869,  1.54149628],\n",
              "       [-0.69837999,  0.91831141],\n",
              "       [ 1.18065045, -0.74991029],\n",
              "       [ 0.90134287, -1.30413398],\n",
              "       [ 1.32019914, -1.26382366]])"
            ]
          },
          "metadata": {},
          "execution_count": 55
        }
      ]
    },
    {
      "cell_type": "code",
      "source": [
        "metode_kmeans.n_iter_"
      ],
      "metadata": {
        "colab": {
          "base_uri": "https://localhost:8080/"
        },
        "id": "P3qC2xLhChWj",
        "outputId": "101f2e63-e9d2-4d72-fd58-3977078bade0"
      },
      "execution_count": null,
      "outputs": [
        {
          "output_type": "execute_result",
          "data": {
            "text/plain": [
              "9"
            ]
          },
          "metadata": {},
          "execution_count": 56
        }
      ]
    },
    {
      "cell_type": "code",
      "source": [
        "metode_kmeans.labels_"
      ],
      "metadata": {
        "colab": {
          "base_uri": "https://localhost:8080/"
        },
        "id": "RE8K00vLCmPc",
        "outputId": "4916a54c-517d-4250-85b8-4efb4a95c486"
      },
      "execution_count": null,
      "outputs": [
        {
          "output_type": "execute_result",
          "data": {
            "text/plain": [
              "array([5, 1, 8, 3, 1, 7, 1, 2, 5, 6, 4, 6, 7, 5, 8, 5, 7, 8, 1, 7, 2, 2,\n",
              "       1, 4, 8, 1, 7, 5, 0, 1, 6, 5, 0, 6, 6, 8, 8, 5, 3, 7, 0, 7, 7, 4,\n",
              "       4, 1, 6, 5, 1, 1, 8, 8, 3, 6, 5, 6, 7, 0, 7, 0, 0, 0, 5, 2, 3, 2,\n",
              "       6, 8, 5, 6, 6, 0, 7, 8, 5, 3, 0, 6, 2, 2, 2, 0, 8, 7, 3, 6, 4, 8,\n",
              "       8, 3, 5, 3, 6, 8, 7, 7, 3, 5, 6, 4, 6, 3, 1, 4, 2, 5, 0, 5, 7, 0,\n",
              "       7, 5, 5, 3, 0, 4, 1, 2, 5, 0, 2, 4, 6, 8, 5, 8, 0, 3, 0, 6, 8, 1,\n",
              "       8, 5, 7, 2, 6, 3, 8, 0, 6, 7, 5, 6, 3, 7, 6, 6, 0, 2, 3, 2, 3, 8,\n",
              "       2, 5, 3, 0, 2, 3, 6, 3, 5, 1, 5, 5, 2, 8, 5, 3, 8, 6, 8, 8, 3, 6,\n",
              "       8, 8, 4, 6, 2, 3, 7, 6, 0, 6, 3, 3, 5, 7, 7, 8, 3, 3, 8, 0, 8, 6,\n",
              "       0, 5, 8, 5, 0, 8, 4, 8, 4, 1, 1, 4], dtype=int32)"
            ]
          },
          "metadata": {},
          "execution_count": 57
        }
      ]
    },
    {
      "cell_type": "code",
      "source": [
        "import numpy as np\n",
        "import matplotlib.pyplot as plt\n",
        "import pandas as pd"
      ],
      "metadata": {
        "id": "-CZgbJ0KCqWG"
      },
      "execution_count": null,
      "outputs": []
    },
    {
      "cell_type": "code",
      "source": [
        "color = np.array([\"Red\",\"Green\",\"Blue\",\"yellow\",\"black\",\"white\",\"brown\",\"pink\",\"purple\"])\n",
        "plt.subplot(1,2,2)\n",
        "plt.scatter(skala_fitur[:,0], skala_fitur[:,1], s=50, alpha=1, cmap='viridis', c=color[metode_kmeans.labels_])"
      ],
      "metadata": {
        "colab": {
          "base_uri": "https://localhost:8080/",
          "height": 485
        },
        "id": "yaFZVuhnCxfm",
        "outputId": "ac049a20-1d08-46ca-f5f9-b2e1f91072de"
      },
      "execution_count": null,
      "outputs": [
        {
          "output_type": "stream",
          "name": "stderr",
          "text": [
            "<ipython-input-59-4be062c28ced>:3: UserWarning: No data for colormapping provided via 'c'. Parameters 'cmap' will be ignored\n",
            "  plt.scatter(skala_fitur[:,0], skala_fitur[:,1], s=50, alpha=1, cmap='viridis', c=color[metode_kmeans.labels_])\n"
          ]
        },
        {
          "output_type": "execute_result",
          "data": {
            "text/plain": [
              "<matplotlib.collections.PathCollection at 0x7f341a22bdf0>"
            ]
          },
          "metadata": {},
          "execution_count": 59
        },
        {
          "output_type": "display_data",
          "data": {
            "text/plain": [
              "<Figure size 640x480 with 1 Axes>"
            ],
            "image/png": "[encoded data removed]"
          },
          "metadata": {}
        }
      ]
    },
    {
      "cell_type": "code",
      "source": [],
      "metadata": {
        "id": "xJqFclZ5C3Or"
      },
      "execution_count": null,
      "outputs": []
    }
  ]
}